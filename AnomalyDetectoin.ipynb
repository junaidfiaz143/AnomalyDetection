{
  "nbformat": 4,
  "nbformat_minor": 0,
  "metadata": {
    "colab": {
      "name": "AnomalyDetectoin.ipynb",
      "provenance": [],
      "collapsed_sections": []
    },
    "kernelspec": {
      "name": "python3",
      "display_name": "Python 3"
    },
    "accelerator": "GPU"
  },
  "cells": [
    {
      "cell_type": "code",
      "metadata": {
        "id": "_1cJ5frYu815",
        "colab_type": "code",
        "colab": {}
      },
      "source": [
        "import numpy as np\n",
        "from tensorflow import keras\n",
        "from tensorflow.keras.datasets import mnist\n",
        "from tensorflow.keras.models import Sequential, Model\n",
        "from tensorflow.keras.layers import Input, Dense\n",
        "from tensorflow.keras import optimizers\n",
        "from tensorflow.keras.optimizers import Adam\n",
        "from keras.preprocessing import image"
      ],
      "execution_count": 0,
      "outputs": []
    },
    {
      "cell_type": "code",
      "metadata": {
        "id": "CFrEX02PvzAV",
        "colab_type": "code",
        "colab": {}
      },
      "source": [
        "(x_train, x_test), (y_train, y_test) = mnist.load_data()\n",
        "train_x = x_train.reshape(60000, 784) / 255\n",
        "val_x  = y_train.reshape(10000, 784) / 255"
      ],
      "execution_count": 0,
      "outputs": []
    },
    {
      "cell_type": "code",
      "metadata": {
        "id": "29tS3R5OwQeE",
        "colab_type": "code",
        "colab": {}
      },
      "source": [
        "autoencoder = Sequential(name=\"mnist_anomaly\")\n",
        "autoencoder.add(Dense(512,  activation='elu', input_shape=(784,)))\n",
        "autoencoder.add(Dense(128,  activation='elu'))\n",
        "autoencoder.add(Dense(10,    activation='linear', name=\"bottleneck\"))\n",
        "autoencoder.add(Dense(128,  activation='elu'))\n",
        "autoencoder.add(Dense(512,  activation='elu'))\n",
        "autoencoder.add(Dense(784,  activation='sigmoid'))\n",
        "autoencoder.compile(loss='mean_squared_error', optimizer = Adam())"
      ],
      "execution_count": 0,
      "outputs": []
    },
    {
      "cell_type": "code",
      "metadata": {
        "id": "gE41e-JuwoO4",
        "colab_type": "code",
        "colab": {
          "base_uri": "https://localhost:8080/",
          "height": 357
        },
        "outputId": "a8149563-53b5-4fe2-d8fa-d75fd07f1a0d"
      },
      "source": [
        "trained_model = autoencoder.fit(train_x, train_x, batch_size=1024, epochs=10, verbose=1, validation_data=(val_x, val_x))"
      ],
      "execution_count": 54,
      "outputs": [
        {
          "output_type": "stream",
          "text": [
            "Epoch 1/10\n",
            "59/59 [==============================] - 1s 14ms/step - loss: 0.0752 - val_loss: 0.0485\n",
            "Epoch 2/10\n",
            "59/59 [==============================] - 1s 12ms/step - loss: 0.0431 - val_loss: 0.0377\n",
            "Epoch 3/10\n",
            "59/59 [==============================] - 1s 12ms/step - loss: 0.0345 - val_loss: 0.0312\n",
            "Epoch 4/10\n",
            "59/59 [==============================] - 1s 12ms/step - loss: 0.0303 - val_loss: 0.0282\n",
            "Epoch 5/10\n",
            "59/59 [==============================] - 1s 13ms/step - loss: 0.0275 - val_loss: 0.0256\n",
            "Epoch 6/10\n",
            "59/59 [==============================] - 1s 12ms/step - loss: 0.0250 - val_loss: 0.0235\n",
            "Epoch 7/10\n",
            "59/59 [==============================] - 1s 12ms/step - loss: 0.0233 - val_loss: 0.0222\n",
            "Epoch 8/10\n",
            "59/59 [==============================] - 1s 12ms/step - loss: 0.0222 - val_loss: 0.0212\n",
            "Epoch 9/10\n",
            "59/59 [==============================] - 1s 12ms/step - loss: 0.0212 - val_loss: 0.0204\n",
            "Epoch 10/10\n",
            "59/59 [==============================] - 1s 12ms/step - loss: 0.0204 - val_loss: 0.0196\n"
          ],
          "name": "stdout"
        }
      ]
    },
    {
      "cell_type": "code",
      "metadata": {
        "id": "49bZtkTKw6_M",
        "colab_type": "code",
        "colab": {}
      },
      "source": [
        "#encoder\n",
        "encoder = Model(autoencoder.input, autoencoder.get_layer(\"bottleneck\").output)\n",
        "encoded_data = encoder.predict(train_x) #bottleneck representation\n",
        "\n",
        "decoded_output = autoencoder.predict(train_x) #reconstruction loss\n",
        "\n",
        "encoding_dims = 10 #must match bottleneck hidden units\n",
        "\n",
        "#return decoder\n",
        "encoded_input = Input(shape=(encoding_dims, ))\n",
        "decoder = autoencoder.layers[-3](encoded_input)\n",
        "decoder = autoencoder.layers[-2](decoder)\n",
        "decoder = autoencoder.layers[-1](decoder)\n",
        "decoder = Model(encoded_input, decoder)"
      ],
      "execution_count": 0,
      "outputs": []
    },
    {
      "cell_type": "code",
      "metadata": {
        "id": "cuy4MVPH6sHb",
        "colab_type": "code",
        "colab": {
          "base_uri": "https://localhost:8080/",
          "height": 34
        },
        "outputId": "8b971aea-cccb-40a2-f0c5-08bb4d039e3f"
      },
      "source": [
        "# if the layout.jpg is not one of the MNIST dataset that the model was trained on, the error will be very high.\n",
        "img = image.load_img(\"layout.JPG\", target_size=(28, 28), color_mode = \"grayscale\")\n",
        "input_img = image.img_to_array(img)\n",
        "inputs = input_img.reshape(1, 784)\n",
        "\n",
        "target_data = autoencoder.predict(inputs)\n",
        "\n",
        "dist = np.linalg.norm(inputs - target_data, axis=-1)\n",
        "print(dist)"
      ],
      "execution_count": 57,
      "outputs": [
        {
          "output_type": "stream",
          "text": [
            "[6799.5938]\n"
          ],
          "name": "stdout"
        }
      ]
    },
    {
      "cell_type": "code",
      "metadata": {
        "id": "nhq0wDIi7wkB",
        "colab_type": "code",
        "colab": {
          "base_uri": "https://localhost:8080/",
          "height": 34
        },
        "outputId": "60cc8012-03d2-4717-89a6-4c4aeddaac0f"
      },
      "source": [
        "inputs = train_x[0].reshape(1, 784)\n",
        "target_data = autoencoder.predict(inputs)\n",
        "dist = np.linalg.norm(inputs - target_data, axis=-1)\n",
        "print(dist)"
      ],
      "execution_count": 58,
      "outputs": [
        {
          "output_type": "stream",
          "text": [
            "[5.65472872]\n"
          ],
          "name": "stdout"
        }
      ]
    },
    {
      "cell_type": "code",
      "metadata": {
        "id": "TgUcJnPY8AfZ",
        "colab_type": "code",
        "colab": {}
      },
      "source": [
        ""
      ],
      "execution_count": 0,
      "outputs": []
    }
  ]
}